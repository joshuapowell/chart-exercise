{
 "cells": [
  {
   "cell_type": "code",
   "execution_count": 2,
   "metadata": {
    "scrolled": true
   },
   "outputs": [
    {
     "name": "stdout",
     "output_type": "stream",
     "text": [
      "2000 ||\n",
      "2001 |||||||||\n",
      "2002 ||||||||||\n",
      "2003 |||||||||\n",
      "2004 ||||||||||||||\n",
      "2005 |||||||||||\n",
      "2006 ||||||||\n",
      "2007 ||||||||||\n",
      "2008 ||||||||||||||\n",
      "2009 |||||||||||||||||||\n",
      "2010 ||||||||||||||||\n",
      "2011 |||||||||||||||||\n"
     ]
    }
   ],
   "source": [
    "\"\"\"\n",
    "Create a chart from CSV\n",
    "\"\"\"\n",
    "\n",
    "years = {2000: 2, 2001: 9, 2002: 10, 2003: 9, 2004: 14, 2005: 11, 2006: 8, 2007: 10, 2008: 14, 2009: 19, 2010: 16, 2011: 17}\n",
    "\n",
    "for y in years:\n",
    "    print(y, years[y]*'|')"
   ]
  },
  {
   "cell_type": "code",
   "execution_count": 2,
   "metadata": {},
   "outputs": [
    {
     "name": "stdout",
     "output_type": "stream",
     "text": [
      "1900 ░░░░░░░░░░░░░░░░░░░░\n",
      "     ░░░\n",
      "     \n",
      "1910 ░░░░░░░░░░░░░░░░░░░░░░░░░\n",
      "     ░░░░\n",
      "     ░\n",
      "1920 ░░░░░\n",
      "     ░░░░░░░░░░\n",
      "     ░\n",
      "1930 \n",
      "     ░░░░░░\n",
      "     ░\n",
      "1940 ░░░░░\n",
      "     ░░░░░░\n",
      "     ░\n"
     ]
    }
   ],
   "source": [
    "import csv\n",
    "import sys\n",
    "\n",
    "def is_number(n):\n",
    "    try:\n",
    "        float(n)\n",
    "    except ValueError:\n",
    "        return False\n",
    "    return True\n",
    "\n",
    "def get_value(columnValue):\n",
    "\n",
    "    if is_number(columnValue):\n",
    "        pass\n",
    "    else:\n",
    "        pass\n",
    "\n",
    "style = [\n",
    "    u'\\u2591',\n",
    "    u'\\u2592',\n",
    "    u'\\u2593'\n",
    "]\n",
    "\n",
    "with open('/Users/joshuapowell/Projects/nielsen-exercise/data/sample3.csv') as csvfile:\n",
    "    reader = csv.reader(csvfile)\n",
    "    \n",
    "    for index, row in enumerate(reader):\n",
    "\n",
    "        current_style = 0\n",
    "\n",
    "        if index > 0:        \n",
    "            print(\"%s\" % (row[0]) + \" \" + (int(row[1])*style[current_style] if is_number(row[1]) else \"\"))\n",
    "            current_style = 1\n",
    "\n",
    "            for index2, row2 in enumerate(row):\n",
    "\n",
    "                if index2 not in (0, 1):\n",
    "                    current_style = current_style+1 if current_style > 2 else 0\n",
    "\n",
    "                    print(\"     \" + (int(row2)*style[current_style] if is_number(row2) else \"\"))"
   ]
  },
  {
   "cell_type": "code",
   "execution_count": null,
   "metadata": {},
   "outputs": [],
   "source": []
  }
 ],
 "metadata": {
  "kernelspec": {
   "display_name": "Python 3",
   "language": "python",
   "name": "python3"
  },
  "language_info": {
   "codemirror_mode": {
    "name": "ipython",
    "version": 3
   },
   "file_extension": ".py",
   "mimetype": "text/x-python",
   "name": "python",
   "nbconvert_exporter": "python",
   "pygments_lexer": "ipython3",
   "version": "3.7.2"
  }
 },
 "nbformat": 4,
 "nbformat_minor": 2
}
